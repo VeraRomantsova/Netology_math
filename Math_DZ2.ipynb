{
 "cells": [
  {
   "cell_type": "markdown",
   "metadata": {},
   "source": [
    "### Домашнее задание \"Линейная алгебра. Матрицы\".\n",
    "#### Уровень 0:\n",
    "Создайте матрицу 3 на 3, заполненную числами от 1 до 9\n",
    "Прибавьте к ней матрицу с единицами на диагонале\n",
    "Умножьте полученную матрицу на вектор (1, 2, 3)\n",
    "Посчитайте обратную матрицу к полученной матрице"
   ]
  },
  {
   "cell_type": "code",
   "execution_count": 1,
   "metadata": {},
   "outputs": [
    {
     "data": {
      "text/plain": [
       "array([[1., 2., 3.],\n",
       "       [4., 5., 6.],\n",
       "       [7., 8., 9.]])"
      ]
     },
     "execution_count": 1,
     "metadata": {},
     "output_type": "execute_result"
    }
   ],
   "source": [
    "#Создайте матрицу 3 на 3, заполненную числами от 1 до 9 \n",
    "import numpy as np\n",
    "B = np.array([[1.,2.,3.],\n",
    "        [4.,5.,6.],\n",
    "        [7.,8.,9.]])\n",
    "B"
   ]
  },
  {
   "cell_type": "code",
   "execution_count": 2,
   "metadata": {},
   "outputs": [
    {
     "data": {
      "text/plain": [
       "array([[ 2.,  2.,  3.],\n",
       "       [ 4.,  6.,  6.],\n",
       "       [ 7.,  8., 10.]])"
      ]
     },
     "execution_count": 2,
     "metadata": {},
     "output_type": "execute_result"
    }
   ],
   "source": [
    "#Прибавьте к ней матрицу с единицами на диагонали\n",
    "C = B + np.eye(3)\n",
    "C"
   ]
  },
  {
   "cell_type": "code",
   "execution_count": 3,
   "metadata": {},
   "outputs": [
    {
     "data": {
      "text/plain": [
       "array([[-6.00000000e+00, -2.00000000e+00,  3.00000000e+00],\n",
       "       [-1.00000000e+00,  5.00000000e-01,  2.22044605e-17],\n",
       "       [ 5.00000000e+00,  1.00000000e+00, -2.00000000e+00]])"
      ]
     },
     "execution_count": 3,
     "metadata": {},
     "output_type": "execute_result"
    }
   ],
   "source": [
    "#Посчитайте обратную матрицу к полученной матрице\n",
    "Cinv = np.linalg.inv(C)\n",
    "Cinv"
   ]
  },
  {
   "cell_type": "code",
   "execution_count": 4,
   "metadata": {},
   "outputs": [
    {
     "data": {
      "text/plain": [
       "array([[1.00000000e+00, 3.55271368e-15, 8.88178420e-16],\n",
       "       [1.55431223e-16, 1.00000000e+00, 2.22044605e-16],\n",
       "       [1.33226763e-15, 0.00000000e+00, 1.00000000e+00]])"
      ]
     },
     "execution_count": 4,
     "metadata": {},
     "output_type": "execute_result"
    }
   ],
   "source": [
    "#Проверим, верно ли нашлась обратная матрица:\n",
    "I = Cinv.dot(C)\n",
    "I"
   ]
  },
  {
   "cell_type": "markdown",
   "metadata": {},
   "source": [
    "Значения недиагональных элементов приближаются к нулю, матрицу можно считать единичной"
   ]
  },
  {
   "cell_type": "code",
   "execution_count": 6,
   "metadata": {},
   "outputs": [
    {
     "data": {
      "text/plain": [
       "(-200.0, 200.0)"
      ]
     },
     "execution_count": 6,
     "metadata": {},
     "output_type": "execute_result"
    },
    {
     "data": {
      "image/png": "[encoded data removed]",
      "text/plain": [
       "<Figure size 432x288 with 1 Axes>"
      ]
     },
     "metadata": {
      "needs_background": "light"
     },
     "output_type": "display_data"
    }
   ],
   "source": [
    "#Уровень 1:\n",
    "#Дан объект в 2d пространстве:\n",
    "\n",
    "import numpy as np\n",
    "import matplotlib.pyplot as plt\n",
    "\n",
    "A = [\n",
    "[-100, -100, 1],\n",
    "[-100, 100, 1],\n",
    "[100, 100, 1],\n",
    "[0, 0, 1],\n",
    "[100, -100, 1],\n",
    "[-100, -100, 1]\n",
    "]\n",
    "\n",
    "A = np.array(A)\n",
    "x = A[:,0]\n",
    "y = A[:,1]\n",
    "\n",
    "plt.plot(x, y)\n",
    "plt.ylim([-200, 200])\n",
    "plt.xlim([-200, 200])\n",
    "#При помощи матричных операций выполните:\n",
    "\n",
    "#Уменьшить объект в два раза\n",
    "#Повернуть на 130 градусов\n",
    "#Отразить объект относительно прямой y=x\n",
    "#Выполнить смещение объекта и масштабирование (применить 2 матрицы трансформаций). Смещение на (200, 300) и масштабирование на (0.5, 1.2)"
   ]
  },
  {
   "cell_type": "code",
   "execution_count": 7,
   "metadata": {},
   "outputs": [
    {
     "data": {
      "image/png": "[encoded data removed]",
      "text/plain": [
       "<Figure size 576x576 with 1 Axes>"
      ]
     },
     "metadata": {
      "needs_background": "light"
     },
     "output_type": "display_data"
    }
   ],
   "source": [
    "#Уменьшить объект в два раза\n",
    "M = np.array([[0.5,0,0],\n",
    "              [0,0.5,0],\n",
    "              [0,0,1]]) #Так уменьшим только значения для x и y, так как по условию нужно уменьшить только 2D (т.е. x и y)\n",
    "# Можно было бы уменьшить фигуру просто умножив ее на скаляр, но тогда мы уменьшим и значение третьей переменной до 0.5\n",
    "B = []\n",
    "for a in A:\n",
    "    b = np.dot(a,M)\n",
    "    B.append(b)\n",
    "B = np.array(B) #Матрица, уменьшенная вдвое в плоскости ху\n",
    "def image(matrix):\n",
    "    \"\"\"Показываем изображение после действия над объектом\"\"\"\n",
    "    plt.figure(figsize = (8,8),)\n",
    "    x = matrix[:,0]\n",
    "    y = matrix[:,1]\n",
    "    plt.plot(x, y)\n",
    "    plt.ylim([-450, 450])\n",
    "    plt.xlim([-450, 450])\n",
    "image(B)"
   ]
  },
  {
   "cell_type": "code",
   "execution_count": 8,
   "metadata": {},
   "outputs": [],
   "source": [
    "#Повернуть на 130 градусов (правосторонняя система координат и положительное направление вращения против часовой стрелки)\n",
    "from math import cos, sin, pi"
   ]
  },
  {
   "cell_type": "code",
   "execution_count": 9,
   "metadata": {},
   "outputs": [],
   "source": [
    "#Зададим угол поворота\n",
    "tetha = 130 * 180 / pi"
   ]
  },
  {
   "cell_type": "code",
   "execution_count": 10,
   "metadata": {},
   "outputs": [],
   "source": [
    "# Зададим матрицу поворота в плоскости ху\n",
    "M = np.array([[cos(tetha), sin(tetha),0],\n",
    "             [-sin(tetha), cos(tetha),0],\n",
    "             [0,0,1]]) "
   ]
  },
  {
   "cell_type": "code",
   "execution_count": 11,
   "metadata": {},
   "outputs": [
    {
     "data": {
      "text/plain": [
       "array([[ 35.16867289,  61.34463666,   1.        ],\n",
       "       [ 61.34463666, -35.16867289,   1.        ],\n",
       "       [-35.16867289, -61.34463666,   1.        ],\n",
       "       [  0.        ,   0.        ,   1.        ],\n",
       "       [-61.34463666,  35.16867289,   1.        ],\n",
       "       [ 35.16867289,  61.34463666,   1.        ]])"
      ]
     },
     "execution_count": 11,
     "metadata": {},
     "output_type": "execute_result"
    }
   ],
   "source": [
    "#Создаем новую матрицу - здесь и далее последовательно применяю действия к предыдущей матрице\n",
    "C = []\n",
    "for b in B:\n",
    "    c = np.dot(M,b)\n",
    "    C.append(c)\n",
    "C = np.array(C) #Матрица, повернутая против часовой стрелки на 130 градусов\n",
    "C"
   ]
  },
  {
   "cell_type": "code",
   "execution_count": 12,
   "metadata": {},
   "outputs": [
    {
     "data": {
      "image/png": "[encoded data removed]",
      "text/plain": [
       "<Figure size 576x576 with 1 Axes>"
      ]
     },
     "metadata": {
      "needs_background": "light"
     },
     "output_type": "display_data"
    }
   ],
   "source": [
    "#Покажем поворот на картинке\n",
    "image(C)"
   ]
  },
  {
   "cell_type": "code",
   "execution_count": 13,
   "metadata": {},
   "outputs": [
    {
     "data": {
      "text/plain": [
       "array([[ 61.34463666,  35.16867289,   1.        ],\n",
       "       [-35.16867289,  61.34463666,   1.        ],\n",
       "       [-61.34463666, -35.16867289,   1.        ],\n",
       "       [  0.        ,   0.        ,   1.        ],\n",
       "       [ 35.16867289, -61.34463666,   1.        ],\n",
       "       [ 61.34463666,  35.16867289,   1.        ]])"
      ]
     },
     "execution_count": 13,
     "metadata": {},
     "output_type": "execute_result"
    }
   ],
   "source": [
    "#Отразить объект относительно прямой y=x\n",
    "M = np.array([[0,1,0],\n",
    "             [1,0,0],\n",
    "             [0,0,1]]) #создаем матрицу отображения\n",
    "D = np.dot(C,M) #Матрица, отображенная относительно оси ху\n",
    "D"
   ]
  },
  {
   "cell_type": "code",
   "execution_count": 14,
   "metadata": {},
   "outputs": [
    {
     "data": {
      "image/png": "[encoded data removed]",
      "text/plain": [
       "<Figure size 576x576 with 1 Axes>"
      ]
     },
     "metadata": {
      "needs_background": "light"
     },
     "output_type": "display_data"
    }
   ],
   "source": [
    "image(D)"
   ]
  },
  {
   "cell_type": "code",
   "execution_count": 15,
   "metadata": {},
   "outputs": [
    {
     "data": {
      "text/plain": [
       "array([[ 35.16867289,  61.34463666,   1.        ],\n",
       "       [ 61.34463666, -35.16867289,   1.        ],\n",
       "       [-35.16867289, -61.34463666,   1.        ],\n",
       "       [  0.        ,   0.        ,   1.        ],\n",
       "       [-61.34463666,  35.16867289,   1.        ],\n",
       "       [ 35.16867289,  61.34463666,   1.        ]])"
      ]
     },
     "execution_count": 15,
     "metadata": {},
     "output_type": "execute_result"
    }
   ],
   "source": [
    "C"
   ]
  },
  {
   "cell_type": "code",
   "execution_count": 16,
   "metadata": {},
   "outputs": [
    {
     "data": {
      "text/plain": [
       "array([[ 61.34463666,  35.16867289,   1.        ],\n",
       "       [-35.16867289,  61.34463666,   1.        ],\n",
       "       [-61.34463666, -35.16867289,   1.        ],\n",
       "       [  0.        ,   0.        ,   1.        ],\n",
       "       [ 35.16867289, -61.34463666,   1.        ],\n",
       "       [ 61.34463666,  35.16867289,   1.        ]])"
      ]
     },
     "execution_count": 16,
     "metadata": {},
     "output_type": "execute_result"
    }
   ],
   "source": [
    "D"
   ]
  },
  {
   "cell_type": "code",
   "execution_count": 17,
   "metadata": {},
   "outputs": [],
   "source": [
    "#Выполнить смещение объекта и масштабирование (применить 2 матрицы трансформаций). Смещение на (200, 300) и масштабирование на (0.5, 1.2)\n",
    "M = np.array([[1,0,200],\n",
    "            [0,1,300],\n",
    "            [0,0,1]]) #Зададим матрицу трансформации смещения на (200,300)"
   ]
  },
  {
   "cell_type": "code",
   "execution_count": 18,
   "metadata": {},
   "outputs": [
    {
     "data": {
      "image/png": "[encoded data removed]",
      "text/plain": [
       "<Figure size 576x576 with 1 Axes>"
      ]
     },
     "metadata": {
      "needs_background": "light"
     },
     "output_type": "display_data"
    }
   ],
   "source": [
    "E = []\n",
    "for d in D:\n",
    "    e = np.dot(M,d)\n",
    "    E.append(e)\n",
    "E = np.array(E) #Смещение матрицы D на (200, 300)\n",
    "image(E)"
   ]
  },
  {
   "cell_type": "code",
   "execution_count": 19,
   "metadata": {},
   "outputs": [
    {
     "data": {
      "image/png": "[encoded data removed]",
      "text/plain": [
       "<Figure size 576x576 with 1 Axes>"
      ]
     },
     "metadata": {
      "needs_background": "light"
     },
     "output_type": "display_data"
    }
   ],
   "source": [
    "M = np.array([[0.5,0,0],\n",
    "            [0,1.2,0],\n",
    "            [0,0,1]]) #Зададим матрицу трансформации масштабирования\n",
    "F = []\n",
    "for e in E:\n",
    "    f = np.dot(e,M)\n",
    "    F.append(f)\n",
    "F = np.array(F) #Масштабирование матрицы E на (0.5,1.2)\n",
    "image(F)"
   ]
  }
 ],
 "metadata": {
  "kernelspec": {
   "display_name": "Python 3",
   "language": "python",
   "name": "python3"
  },
  "language_info": {
   "codemirror_mode": {
    "name": "ipython",
    "version": 3
   },
   "file_extension": ".py",
   "mimetype": "text/x-python",
   "name": "python",
   "nbconvert_exporter": "python",
   "pygments_lexer": "ipython3",
   "version": "3.8.3"
  }
 },
 "nbformat": 4,
 "nbformat_minor": 4
}
