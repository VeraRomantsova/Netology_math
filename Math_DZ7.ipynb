{
 "cells": [
  {
   "cell_type": "markdown",
   "metadata": {},
   "source": [
    "# Домашнее задание \"Теория вероятности. Дискретные Случайные Величины\"."
   ]
  },
  {
   "cell_type": "markdown",
   "metadata": {},
   "source": [
    "## Уровень 0:\n",
    "\n",
    "Задание 1:\n",
    "    \n",
    "Монетку подбрасывают 15 раз, найдите вероятность выпадения простого числа орлов.\n",
    "\n",
    "Задание 2:\n",
    "    \n",
    "Создайте свою дискретную случайную величину с не менее, чем 10 значениями. Просемплируйте 1000 случайных значений, постройте гистограмму плотности распределения по выборке, посчитайте среднее, дисперсию и медиану."
   ]
  },
  {
   "cell_type": "code",
   "execution_count": 2,
   "metadata": {},
   "outputs": [],
   "source": [
    "import numpy as np"
   ]
  },
  {
   "cell_type": "code",
   "execution_count": 16,
   "metadata": {},
   "outputs": [
    {
     "name": "stdout",
     "output_type": "stream",
     "text": [
      "0.6\n"
     ]
    }
   ],
   "source": [
    "#Задание 1: Монетку подбрасывают 15 раз, найдите вероятность выпадения простого числа орлов.\n",
    "trials = 15    # Количество попыток\n",
    "successes = 0    # Количество успехов (выпал орел)\n",
    "\n",
    "for i in range(trials):\n",
    "    random_score = np.random.randint(0, 2)    # Орел или решка\n",
    "    if random_score == 1: #Выпал орел\n",
    "        successes += 1\n",
    "        \n",
    "p = successes / trials    # Вероятность выпадения простого числа орлов.\n",
    "print(p)"
   ]
  },
  {
   "cell_type": "markdown",
   "metadata": {},
   "source": [
    "Если вероятность считать руками - она будет равна 0,5."
   ]
  },
  {
   "cell_type": "code",
   "execution_count": 22,
   "metadata": {},
   "outputs": [],
   "source": [
    "#Задание 2: Создайте свою дискретную случайную величину с не менее, чем 10 значениями. \n",
    "#Просемплируйте 1000 случайных значений, постройте гистограмму плотности распределения по выборке, \n",
    "# посчитайте среднее, дисперсию и медиану.\n",
    "from scipy.stats import *"
   ]
  },
  {
   "cell_type": "code",
   "execution_count": 49,
   "metadata": {},
   "outputs": [
    {
     "data": {
      "text/plain": [
       "array([7, 7, 5, 8, 1, 4, 5, 7, 7, 4])"
      ]
     },
     "execution_count": 49,
     "metadata": {},
     "output_type": "execute_result"
    }
   ],
   "source": [
    "#Создаем случайную величину\n",
    "sv = np.random.randint(low = 1, high = 10, size = 10)\n",
    "sv"
   ]
  },
  {
   "cell_type": "code",
   "execution_count": 57,
   "metadata": {},
   "outputs": [],
   "source": [
    "# Сэмплирование сгенерированной СВ до размера выборки в 1000\n",
    "sampling_data = np.random.choice(sv, size=1000)"
   ]
  },
  {
   "cell_type": "code",
   "execution_count": 71,
   "metadata": {},
   "outputs": [
    {
     "data": {
      "text/plain": [
       "[Text(0, 0.5, 'Frequency'), Text(0.5, 0, 'Data_values')]"
      ]
     },
     "execution_count": 71,
     "metadata": {},
     "output_type": "execute_result"
    },
    {
     "data": {
      "image/png": "[encoded data removed]",
      "text/plain": [
       "<Figure size 432x288 with 1 Axes>"
      ]
     },
     "metadata": {
      "needs_background": "light"
     },
     "output_type": "display_data"
    }
   ],
   "source": [
    "#Гистограмма плотности распределения по выборке \n",
    "import seaborn as sns\n",
    "ax=sns.distplot(sampling_data,\n",
    "kde=True,\n",
    "color='pink',\n",
    "hist_kws={\"linewidth\": 22,'alpha':0.77})\n",
    "ax.set(xlabel='Data_values',ylabel='Frequency')"
   ]
  },
  {
   "cell_type": "code",
   "execution_count": 64,
   "metadata": {},
   "outputs": [
    {
     "name": "stdout",
     "output_type": "stream",
     "text": [
      "Среднее арифметическое: 5.488\n",
      "Медиана: 7.0\n",
      "Дисперсия: 4.355856\n"
     ]
    }
   ],
   "source": [
    "print(f'Среднее арифметическое: {np.mean(sampling_data)}')\n",
    "print(f'Медиана: {np.median(sampling_data)}')\n",
    "print(f'Дисперсия: {np.var(sampling_data)}')"
   ]
  },
  {
   "cell_type": "markdown",
   "metadata": {},
   "source": [
    "## Уровень 1:\n",
    "\n",
    "Задание 3:\n",
    "    \n",
    "Пусть брошены 3 уравновешенные монеты.\n",
    "\n",
    "Рассмотрим 3 события:\n",
    "\n",
    "A1 - монеты 1 и 2 упали одной и той же стороной;\n",
    "\n",
    "A2 - монеты 2 и 3 упали одной и той же стороной;\n",
    "\n",
    "A3 - монеты 1 и 3 упали одной и той же стороной.\n",
    "\n",
    "Покажите, почему эти 3 события (A1, A2, A3) являются попарно независимыми, но не являются независимыми в совокупности."
   ]
  },
  {
   "cell_type": "markdown",
   "metadata": {},
   "source": [
    "Задание 3 (ответ):\n",
    "\n",
    "События попарно независимы, если любые два события из этого семества независимы\n",
    "(например для пары событий A1-A2 два события монета 1 упала одной и той же стороной и монета 3 упала одной и той же стороной независимы) => события попарно независимы\n",
    "\n",
    "А все же три события A1, A2, A3 в совокупности зависимы, так как зная например, что события A1 и А2 произошли, мы знаем также, что А3 тоже произошло => события в совокупности зависимы"
   ]
  },
  {
   "cell_type": "markdown",
   "metadata": {},
   "source": [
    "Задание 4 (формула полной вероятности):\n",
    "    \n",
    "В магазин привезли устройства с 3-х разных предприятий.\n",
    "\n",
    "Соотношение устройств следующее: 20% - продукция первого предприятия, 30% - продукция второго предприятия, 50% - продукция третьего предприятия; далее, 10% продукции первого предприятия высшего сорта, на втором предприятии - 5% и на третьем - 20% продукции высшего сорта.\n",
    "\n",
    "Найти вероятность того, что случайно купленная новая продукция окажется высшего сорта."
   ]
  },
  {
   "cell_type": "code",
   "execution_count": 72,
   "metadata": {},
   "outputs": [
    {
     "name": "stdout",
     "output_type": "stream",
     "text": [
      "Вероятность, что случайно купленная продукция окажется высшего сорта: 0.135\n"
     ]
    }
   ],
   "source": [
    "A1 = 0.2 #продукция первого предприятия\n",
    "A2 = 0.3 #продукция второго предприятия\n",
    "A3 = 0.5 #продукция третьего предприятия\n",
    "p_A1 = 0.1 #вероятность, что продукция окажется высшего сорта, если она взята из первого предприятия\n",
    "p_A2 = 0.05 #вероятность, что продукция окажется высшего сорта, если она взята из второго предприятия\n",
    "p_A3 = 0.2 #вероятность, что продукция окажется высшего сорта, если она взята из третьего предприятия\n",
    "# По формуле полной вероятности:\n",
    "p_A = A1*p_A1 + A2*p_A2 + A3*p_A3\n",
    "print(f'Вероятность, что случайно купленная продукция окажется высшего сорта: {p_A}')"
   ]
  },
  {
   "cell_type": "code",
   "execution_count": null,
   "metadata": {},
   "outputs": [],
   "source": []
  }
 ],
 "metadata": {
  "kernelspec": {
   "display_name": "Python 3",
   "language": "python",
   "name": "python3"
  },
  "language_info": {
   "codemirror_mode": {
    "name": "ipython",
    "version": 3
   },
   "file_extension": ".py",
   "mimetype": "text/x-python",
   "name": "python",
   "nbconvert_exporter": "python",
   "pygments_lexer": "ipython3",
   "version": "3.8.3"
  }
 },
 "nbformat": 4,
 "nbformat_minor": 4
}
